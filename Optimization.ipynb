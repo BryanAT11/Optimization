{
 "cells": [
  {
   "cell_type": "code",
   "execution_count": 1,
   "id": "248ca14f",
   "metadata": {},
   "outputs": [],
   "source": [
    "using JuMP, Cbc"
   ]
  },
  {
   "cell_type": "code",
   "execution_count": 2,
   "id": "1803b3fa",
   "metadata": {},
   "outputs": [
    {
     "data": {
      "text/latex": [
       "$$ \\begin{aligned}\n",
       "\\min\\quad & 240 x_{1} + 240 x_{2} + 240 x_{3} + 240 x_{5} + 360 x_{4} + 360 x_{6}\\\\\n",
       "\\text{Subject to} \\quad & x_{1} + x_{4} + x_{5} \\geq 150.0\\\\\n",
       " & x_{1} + x_{2} + x_{6} \\geq 50.0\\\\\n",
       " & x_{2} + x_{3} + x_{4} \\geq 120.0\\\\\n",
       " & x_{3} + x_{5} + x_{6} \\geq 60.0\\\\\n",
       " & x_{1} \\geq 0.0\\\\\n",
       " & x_{2} \\geq 0.0\\\\\n",
       " & x_{3} \\geq 0.0\\\\\n",
       " & x_{4} \\geq 0.0\\\\\n",
       " & x_{5} \\geq 0.0\\\\\n",
       " & x_{6} \\geq 0.0\\\\\n",
       "\\end{aligned} $$"
      ]
     },
     "metadata": {},
     "output_type": "display_data"
    }
   ],
   "source": [
    "m = Model(Cbc.Optimizer)\n",
    "@variable(m,x[1:6]);\n",
    "\n",
    "@constraint(m,x[1]+x[4]+x[5]>=150);\n",
    "@constraint(m,x[1]+x[2]+x[6]>=50);\n",
    "@constraint(m,x[2]+x[3]+x[4]>=120);\n",
    "@constraint(m,x[3]+x[5]+x[6]>=60);\n",
    "@constraint(m,x[1]>=0);\n",
    "@constraint(m,x[2]>=0);\n",
    "@constraint(m,x[3]>=0);\n",
    "@constraint(m,x[4]>=0);\n",
    "@constraint(m,x[5]>=0);\n",
    "@constraint(m,x[6]>=0);\n",
    "\n",
    "@objective(m, Min, 240*(x[1]+x[2]+x[3]+x[5])+360*(x[4]+x[6]));\n",
    "print(m)"
   ]
  },
  {
   "cell_type": "code",
   "execution_count": 3,
   "id": "38734f95",
   "metadata": {},
   "outputs": [
    {
     "name": "stdout",
     "output_type": "stream",
     "text": [
      "Presolve 4 (-6) rows, 6 (0) columns and 12 (-6) elements\n",
      "0  Obj 0 Primal inf 380 (4)\n",
      "4  Obj 55200\n",
      "Optimal - objective value 55200\n",
      "After Postsolve, objective 55200, infeasibilities - dual 0 (0), primal 0 (0)\n",
      "Optimal objective 55200 - 4 iterations time 0.002, Presolve 0.00\n"
     ]
    }
   ],
   "source": [
    "optimize!(m)"
   ]
  },
  {
   "cell_type": "code",
   "execution_count": 4,
   "id": "2f92380a",
   "metadata": {},
   "outputs": [
    {
     "data": {
      "text/plain": [
       "* Solver : COIN Branch-and-Cut (Cbc)\n",
       "\n",
       "* Status\n",
       "  Result count       : 1\n",
       "  Termination status : OPTIMAL\n",
       "  Message from the solver:\n",
       "  \"Cbc_status          = finished - check isProvenOptimal or isProvenInfeasible to see if solution found (or check value of best solution)\n",
       "Cbc_secondaryStatus = unset (status_ will also be -1)\n",
       "\"\n",
       "\n",
       "* Candidate solution (result #1)\n",
       "  Primal status      : FEASIBLE_POINT\n",
       "  Dual status        : NO_SOLUTION\n",
       "  Objective value    : 5.52000e+04\n",
       "  Objective bound    : 5.52000e+04\n",
       "  Relative gap       : 0.00000e+00\n",
       "\n",
       "* Work counters\n",
       "  Solve time (sec)   : 0.00000e+00\n",
       "  Node count         : 0\n"
      ]
     },
     "execution_count": 4,
     "metadata": {},
     "output_type": "execute_result"
    }
   ],
   "source": [
    "solution_summary(m)"
   ]
  },
  {
   "cell_type": "code",
   "execution_count": 5,
   "id": "e3b888bd",
   "metadata": {},
   "outputs": [
    {
     "data": {
      "text/plain": [
       "6-element Vector{Float64}:\n",
       " 10.0\n",
       " 40.0\n",
       "  0.0\n",
       " 80.0\n",
       " 60.0\n",
       "  0.0"
      ]
     },
     "execution_count": 5,
     "metadata": {},
     "output_type": "execute_result"
    }
   ],
   "source": [
    "value.(x)"
   ]
  },
  {
   "cell_type": "code",
   "execution_count": 6,
   "id": "4098098e",
   "metadata": {},
   "outputs": [
    {
     "data": {
      "text/plain": [
       "55200.0"
      ]
     },
     "execution_count": 6,
     "metadata": {},
     "output_type": "execute_result"
    }
   ],
   "source": [
    "objective_value(m)"
   ]
  },
  {
   "cell_type": "code",
   "execution_count": 11,
   "id": "69331406",
   "metadata": {},
   "outputs": [
    {
     "data": {
      "text/latex": [
       "$$ \\begin{aligned}\n",
       "\\min\\quad & 240 x_{1} + 240 x_{4} + 240 x_{6} + 360 x_{2} + 360 x_{3} + 360 x_{5}\\\\\n",
       "\\text{Subject to} \\quad & x_{1} + x_{2} + x_{3} \\geq 150.0\\\\\n",
       " & x_{1} + x_{4} + x_{5} \\geq 50.0\\\\\n",
       " & x_{2} + x_{4} + x_{6} \\geq 50.0\\\\\n",
       " & x_{3} + x_{5} + x_{6} \\geq 50.0\\\\\n",
       " & x_{1} \\geq 0.0\\\\\n",
       " & x_{2} \\geq 0.0\\\\\n",
       " & x_{3} \\geq 0.0\\\\\n",
       " & x_{4} \\geq 0.0\\\\\n",
       " & x_{5} \\geq 0.0\\\\\n",
       " & x_{6} \\geq 0.0\\\\\n",
       "\\end{aligned} $$"
      ]
     },
     "metadata": {},
     "output_type": "display_data"
    }
   ],
   "source": [
    "m = Model(Mosek.Optimizer)\n",
    "@variable(m,x[1:6]);\n",
    "\n",
    "@constraint(m,x[1]+x[2]+x[3]>=150);\n",
    "@constraint(m,x[1]+x[4]+x[5]>=50);\n",
    "@constraint(m,x[2]+x[4]+x[6]>=50);\n",
    "@constraint(m,x[3]+x[5]+x[6]>=50);\n",
    "@constraint(m,x[1]>=0);\n",
    "@constraint(m,x[2]>=0);\n",
    "@constraint(m,x[3]>=0);\n",
    "@constraint(m,x[4]>=0);\n",
    "@constraint(m,x[5]>=0);\n",
    "@constraint(m,x[6]>=0);\n",
    "\n",
    "@objective(m, Min, 240*(x[1]+x[4]+x[6])+360*(x[2]+x[3]+x[5]));\n",
    "print(m)"
   ]
  },
  {
   "cell_type": "code",
   "execution_count": 12,
   "id": "86c1e441",
   "metadata": {},
   "outputs": [
    {
     "name": "stdout",
     "output_type": "stream",
     "text": [
      "Problem\n",
      "  Name                   :                 \n",
      "  Objective sense        : minimize        \n",
      "  Type                   : LO (linear optimization problem)\n",
      "  Constraints            : 10              \n",
      "  Affine conic cons.     : 0               \n",
      "  Disjunctive cons.      : 0               \n",
      "  Cones                  : 0               \n",
      "  Scalar variables       : 6               \n",
      "  Matrix variables       : 0               \n",
      "  Integer variables      : 0               \n",
      "\n",
      "Optimizer started.\n",
      "Presolve started.\n",
      "Linear dependency checker started.\n",
      "Linear dependency checker terminated.\n",
      "Eliminator started.\n",
      "Freed constraints in eliminator : 0\n",
      "Eliminator terminated.\n",
      "Eliminator - tries                  : 1                 time                   : 0.00            \n",
      "Lin. dep.  - tries                  : 1                 time                   : 0.00            \n",
      "Lin. dep.  - number                 : 0               \n",
      "Presolve terminated. Time: 0.00    \n",
      "Problem\n",
      "  Name                   :                 \n",
      "  Objective sense        : minimize        \n",
      "  Type                   : LO (linear optimization problem)\n",
      "  Constraints            : 10              \n",
      "  Affine conic cons.     : 0               \n",
      "  Disjunctive cons.      : 0               \n",
      "  Cones                  : 0               \n",
      "  Scalar variables       : 6               \n",
      "  Matrix variables       : 0               \n",
      "  Integer variables      : 0               \n",
      "\n",
      "Optimizer  - threads                : 8               \n",
      "Optimizer  - solved problem         : the primal      \n",
      "Optimizer  - Constraints            : 4\n",
      "Optimizer  - Cones                  : 0\n",
      "Optimizer  - Scalar variables       : 10                conic                  : 0               \n",
      "Optimizer  - Semi-definite variables: 0                 scalarized             : 0               \n",
      "Factor     - setup time             : 0.00              dense det. time        : 0.00            \n",
      "Factor     - ML order time          : 0.00              GP order time          : 0.00            \n",
      "Factor     - nonzeros before factor : 10                after factor           : 10              \n",
      "Factor     - dense dim.             : 0                 flops                  : 7.40e+01        \n",
      "ITE PFEAS    DFEAS    GFEAS    PRSTATUS   POBJ              DOBJ              MU       TIME  \n",
      "0   1.5e+02  3.5e+02  2.7e+02  0.00e+00   9.855630547e+02   7.168796454e+02   5.4e-01  0.01  \n",
      "1   1.9e+01  4.5e+01  3.4e+01  -9.70e-01  5.286426975e+03   5.045236707e+03   6.9e-02  0.01  \n",
      "2   4.1e-01  9.9e-01  7.5e-01  -7.79e-01  4.083926055e+04   4.081922105e+04   1.5e-03  0.01  \n",
      "3   9.7e-04  2.3e-03  1.8e-03  8.21e-01   4.798162627e+04   4.798159960e+04   3.6e-06  0.01  \n",
      "4   9.7e-08  2.3e-07  1.8e-07  1.00e+00   4.799999816e+04   4.799999816e+04   3.6e-10  0.01  \n",
      "Basis identification started.\n",
      "Primal basis identification phase started.\n",
      "Primal basis identification phase terminated. Time: 0.00\n",
      "Dual basis identification phase started.\n",
      "Dual basis identification phase terminated. Time: 0.00\n",
      "Basis identification terminated. Time: 0.00\n",
      "Optimizer terminated. Time: 0.03    \n",
      "\n"
     ]
    }
   ],
   "source": [
    "optimize!(m)"
   ]
  },
  {
   "cell_type": "code",
   "execution_count": 13,
   "id": "46cdaef9",
   "metadata": {},
   "outputs": [
    {
     "data": {
      "text/plain": [
       "* Solver : Mosek\n",
       "\n",
       "* Status\n",
       "  Result count       : 2\n",
       "  Termination status : OPTIMAL\n",
       "  Message from the solver:\n",
       "  \"Mosek.MSK_SOL_STA_OPTIMAL, Mosek.MSK_SOL_STA_OPTIMAL\"\n",
       "\n",
       "* Candidate solution (result #1)\n",
       "  Primal status      : FEASIBLE_POINT\n",
       "  Dual status        : FEASIBLE_POINT\n",
       "  Objective value    : 4.80000e+04\n",
       "  Objective bound    : 4.80000e+04\n",
       "  Relative gap       : 0.00000e+00\n",
       "  Dual objective value : 4.80000e+04\n",
       "\n",
       "* Work counters\n",
       "  Solve time (sec)   : 3.10000e-02\n",
       "  Simplex iterations : 0\n",
       "  Barrier iterations : 4\n",
       "  Node count         : 0\n"
      ]
     },
     "execution_count": 13,
     "metadata": {},
     "output_type": "execute_result"
    }
   ],
   "source": [
    "solution_summary(m)"
   ]
  },
  {
   "cell_type": "code",
   "execution_count": 14,
   "id": "efc26e30",
   "metadata": {},
   "outputs": [
    {
     "data": {
      "text/plain": [
       "6-element Vector{Float64}:\n",
       " 86.77887524452605\n",
       " 31.61055949777348\n",
       " 31.610559506268455\n",
       "  2.482409549174441e-9\n",
       "  1.1276613760230124e-9\n",
       " 18.389438596385233"
      ]
     },
     "execution_count": 14,
     "metadata": {},
     "output_type": "execute_result"
    }
   ],
   "source": [
    "value.(x)"
   ]
  },
  {
   "cell_type": "code",
   "execution_count": 15,
   "id": "93dfec5a",
   "metadata": {},
   "outputs": [
    {
     "data": {
      "text/plain": [
       "47999.998164275545"
      ]
     },
     "execution_count": 15,
     "metadata": {},
     "output_type": "execute_result"
    }
   ],
   "source": [
    "objective_value(m)"
   ]
  }
 ],
 "metadata": {
  "kernelspec": {
   "display_name": "Julia 1.8.5",
   "language": "julia",
   "name": "julia-1.8"
  },
  "language_info": {
   "file_extension": ".jl",
   "mimetype": "application/julia",
   "name": "julia",
   "version": "1.8.5"
  }
 },
 "nbformat": 4,
 "nbformat_minor": 5
}

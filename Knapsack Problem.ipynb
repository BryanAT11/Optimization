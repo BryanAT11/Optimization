{
 "cells": [
  {
   "cell_type": "code",
   "execution_count": 2,
   "id": "a728f965",
   "metadata": {},
   "outputs": [],
   "source": [
    "using JuMP\n",
    "import HiGHS\n",
    "import Test"
   ]
  },
  {
   "cell_type": "code",
   "execution_count": 3,
   "id": "068305e5",
   "metadata": {},
   "outputs": [
    {
     "data": {
      "text/plain": [
       "41"
      ]
     },
     "execution_count": 3,
     "metadata": {},
     "output_type": "execute_result"
    }
   ],
   "source": [
    "capacity = 41"
   ]
  },
  {
   "cell_type": "code",
   "execution_count": 4,
   "id": "0781b409",
   "metadata": {},
   "outputs": [
    {
     "data": {
      "text/plain": [
       "6-element Vector{Int64}:\n",
       " 16\n",
       " 22\n",
       " 12\n",
       "  8\n",
       " 11\n",
       " 19"
      ]
     },
     "execution_count": 4,
     "metadata": {},
     "output_type": "execute_result"
    }
   ],
   "source": [
    "value_ = [5,7,4,3,4,6]\n",
    "weight = [16,22,12,8,11,19]"
   ]
  },
  {
   "cell_type": "code",
   "execution_count": 5,
   "id": "1859154e",
   "metadata": {},
   "outputs": [
    {
     "data": {
      "text/plain": [
       "A JuMP Model\n",
       "Feasibility problem with:\n",
       "Variables: 0\n",
       "Model mode: AUTOMATIC\n",
       "CachingOptimizer state: EMPTY_OPTIMIZER\n",
       "Solver name: HiGHS"
      ]
     },
     "execution_count": 5,
     "metadata": {},
     "output_type": "execute_result"
    }
   ],
   "source": [
    "model = Model(HiGHS.Optimizer)"
   ]
  },
  {
   "cell_type": "code",
   "execution_count": 6,
   "id": "294e1d35",
   "metadata": {},
   "outputs": [
    {
     "data": {
      "text/plain": [
       "6-element Vector{VariableRef}:\n",
       " x[1]\n",
       " x[2]\n",
       " x[3]\n",
       " x[4]\n",
       " x[5]\n",
       " x[6]"
      ]
     },
     "execution_count": 6,
     "metadata": {},
     "output_type": "execute_result"
    }
   ],
   "source": [
    "@variable(model, x[1:6], Bin)"
   ]
  },
  {
   "cell_type": "code",
   "execution_count": 7,
   "id": "03a5d79e",
   "metadata": {},
   "outputs": [
    {
     "data": {
      "text/latex": [
       "$$ 16 x_{1} + 22 x_{2} + 12 x_{3} + 8 x_{4} + 11 x_{5} + 19 x_{6} \\leq 41.0 $$"
      ],
      "text/plain": [
       "16 x[1] + 22 x[2] + 12 x[3] + 8 x[4] + 11 x[5] + 19 x[6] <= 41.0"
      ]
     },
     "execution_count": 7,
     "metadata": {},
     "output_type": "execute_result"
    }
   ],
   "source": [
    "@constraint(model, sum(weight[i] * x[i] for i in 1:6) <= capacity)"
   ]
  },
  {
   "cell_type": "code",
   "execution_count": 8,
   "id": "67d70968",
   "metadata": {},
   "outputs": [
    {
     "data": {
      "text/latex": [
       "$$ 5 x_{1} + 7 x_{2} + 4 x_{3} + 3 x_{4} + 4 x_{5} + 6 x_{6} $$"
      ],
      "text/plain": [
       "5 x[1] + 7 x[2] + 4 x[3] + 3 x[4] + 4 x[5] + 6 x[6]"
      ]
     },
     "execution_count": 8,
     "metadata": {},
     "output_type": "execute_result"
    }
   ],
   "source": [
    "@objective(model, Max, sum(value_[i] * x[i] for i in 1:6))"
   ]
  },
  {
   "cell_type": "code",
   "execution_count": 9,
   "id": "73e78cd3",
   "metadata": {},
   "outputs": [
    {
     "data": {
      "text/latex": [
       "$$ \\begin{aligned}\n",
       "\\max\\quad & 5 x_{1} + 7 x_{2} + 4 x_{3} + 3 x_{4} + 4 x_{5} + 6 x_{6}\\\\\n",
       "\\text{Subject to} \\quad & 16 x_{1} + 22 x_{2} + 12 x_{3} + 8 x_{4} + 11 x_{5} + 19 x_{6} \\leq 41.0\\\\\n",
       " & x_{1} \\in \\{0, 1\\}\\\\\n",
       " & x_{2} \\in \\{0, 1\\}\\\\\n",
       " & x_{3} \\in \\{0, 1\\}\\\\\n",
       " & x_{4} \\in \\{0, 1\\}\\\\\n",
       " & x_{5} \\in \\{0, 1\\}\\\\\n",
       " & x_{6} \\in \\{0, 1\\}\\\\\n",
       "\\end{aligned} $$"
      ]
     },
     "metadata": {},
     "output_type": "display_data"
    }
   ],
   "source": [
    "print(model)"
   ]
  },
  {
   "cell_type": "code",
   "execution_count": 10,
   "id": "9870339d",
   "metadata": {},
   "outputs": [
    {
     "name": "stdout",
     "output_type": "stream",
     "text": [
      "Running HiGHS 1.5.1 [date: 1970-01-01, git hash: 93f1876e4]\n",
      "Copyright (c) 2023 HiGHS under MIT licence terms\n",
      "Presolving model\n",
      "1 rows, 6 cols, 6 nonzeros\n",
      "1 rows, 6 cols, 6 nonzeros\n",
      "Objective function is integral with scale 1\n",
      "\n",
      "Solving MIP model with:\n",
      "   1 rows\n",
      "   6 cols (6 binary, 0 integer, 0 implied int., 0 continuous)\n",
      "   6 nonzeros\n",
      "\n",
      "        Nodes      |    B&B Tree     |            Objective Bounds              |  Dynamic Constraints |       Work      \n",
      "     Proc. InQueue |  Leaves   Expl. | BestBound       BestSol              Gap |   Cuts   InLp Confl. | LpIters     Time\n",
      "\n",
      "         0       0         0   0.00%   29              -inf                 inf        0      0      0         0     0.0s\n",
      " S       0       0         0   0.00%   29              11               163.64%        0      0      0         0     0.0s\n",
      " R       0       0         0   0.00%   14.18181818     12                18.18%        0      0      0         1     0.0s\n",
      " S       0       0         0   0.00%   14.18181818     13                 9.09%        1      1      0         1     0.0s\n",
      " H       0       0         0   0.00%   14              14                 0.00%        1      1     10         3     0.0s\n",
      "\n",
      "Solving report\n",
      "  Status            Optimal\n",
      "  Primal bound      14\n",
      "  Dual bound        14\n",
      "  Gap               0% (tolerance: 0.01%)\n",
      "  Solution status   feasible\n",
      "                    14 (objective)\n",
      "                    0 (bound viol.)\n",
      "                    0 (int. viol.)\n",
      "                    0 (row viol.)\n",
      "  Timing            0.01 (total)\n",
      "                    0.00 (presolve)\n",
      "                    0.00 (postsolve)\n",
      "  Nodes             1\n",
      "  LP iterations     3 (total)\n",
      "                    0 (strong br.)\n",
      "                    2 (separation)\n",
      "                    0 (heuristics)\n"
     ]
    },
    {
     "data": {
      "text/plain": [
       "* Solver : HiGHS\n",
       "\n",
       "* Status\n",
       "  Result count       : 1\n",
       "  Termination status : OPTIMAL\n",
       "  Message from the solver:\n",
       "  \"kHighsModelStatusOptimal\"\n",
       "\n",
       "* Candidate solution (result #1)\n",
       "  Primal status      : FEASIBLE_POINT\n",
       "  Dual status        : NO_SOLUTION\n",
       "  Objective value    : 1.40000e+01\n",
       "  Objective bound    : 1.40000e+01\n",
       "  Relative gap       : 0.00000e+00\n",
       "\n",
       "* Work counters\n",
       "  Solve time (sec)   : 8.16298e-03\n",
       "  Simplex iterations : 3\n",
       "  Barrier iterations : -1\n",
       "  Node count         : 1\n"
      ]
     },
     "execution_count": 10,
     "metadata": {},
     "output_type": "execute_result"
    }
   ],
   "source": [
    "optimize!(model)\n",
    "solution_summary(model)"
   ]
  },
  {
   "cell_type": "code",
   "execution_count": 12,
   "id": "d66dcd0d",
   "metadata": {},
   "outputs": [
    {
     "data": {
      "text/plain": [
       "3-element Vector{Int64}:\n",
       " 2\n",
       " 4\n",
       " 5"
      ]
     },
     "execution_count": 12,
     "metadata": {},
     "output_type": "execute_result"
    }
   ],
   "source": [
    "items_chosen = [i for i in 1:6 if value(x[i]) > 0.5]"
   ]
  }
 ],
 "metadata": {
  "kernelspec": {
   "display_name": "Julia 1.8.5",
   "language": "julia",
   "name": "julia-1.8"
  },
  "language_info": {
   "file_extension": ".jl",
   "mimetype": "application/julia",
   "name": "julia",
   "version": "1.8.5"
  }
 },
 "nbformat": 4,
 "nbformat_minor": 5
}
